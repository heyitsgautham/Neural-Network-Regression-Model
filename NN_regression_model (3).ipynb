{
  "nbformat": 4,
  "nbformat_minor": 0,
  "metadata": {
    "colab": {
      "provenance": []
    },
    "kernelspec": {
      "name": "python3",
      "display_name": "Python 3"
    },
    "language_info": {
      "name": "python"
    }
  },
  "cells": [
    {
      "cell_type": "code",
      "execution_count": null,
      "metadata": {
        "id": "VJOBET7aZuAs"
      },
      "outputs": [],
      "source": [
        "import torch\n",
        "import torch.nn as nn\n",
        "import torch.optim as optim\n",
        "import pandas as pd\n",
        "from sklearn.model_selection import train_test_split\n",
        "from sklearn.preprocessing import MinMaxScaler"
      ]
    },
    {
      "cell_type": "code",
      "source": [
        "dataset1 = pd.read_csv('/content/NN_data_1.csv', header = None)\n",
        "X = dataset1[0].values\n",
        "y = dataset1[1].values"
      ],
      "metadata": {
        "id": "PaKxT9lYZ7_r"
      },
      "execution_count": null,
      "outputs": []
    },
    {
      "cell_type": "code",
      "source": [
        "X = X.reshape(-1, 1)\n",
        "y = y.reshape(-1, 1)"
      ],
      "metadata": {
        "id": "HLlYvmvbgyjY"
      },
      "execution_count": null,
      "outputs": []
    },
    {
      "cell_type": "code",
      "source": [
        "X_train, X_test, y_train, y_test = train_test_split(X, y, test_size=0.33, random_state=33)"
      ],
      "metadata": {
        "id": "0s9XNKnraBB1"
      },
      "execution_count": null,
      "outputs": []
    },
    {
      "cell_type": "code",
      "source": [
        "scaler = MinMaxScaler()\n",
        "X_train = scaler.fit_transform(X_train)\n",
        "X_test = scaler.transform(X_test)"
      ],
      "metadata": {
        "id": "YhvC6ogzaEHT"
      },
      "execution_count": null,
      "outputs": []
    },
    {
      "cell_type": "code",
      "source": [
        "X_train_tensor = torch.tensor(X_train, dtype=torch.float32).view(-1, 1)\n",
        "y_train_tensor = torch.tensor(y_train, dtype=torch.float32).view(-1, 1)\n",
        "X_test_tensor = torch.tensor(X_test, dtype=torch.float32).view(-1, 1)\n",
        "y_test_tensor = torch.tensor(y_test, dtype=torch.float32).view(-1, 1)"
      ],
      "metadata": {
        "id": "ht0VjANUaImU"
      },
      "execution_count": null,
      "outputs": []
    },
    {
      "cell_type": "code",
      "source": [
        "# Name: Gautham Krishna S\n",
        "# Register Number: 212223240036\n",
        "class NeuralNet(nn.Module):\n",
        "  def __init__(self):\n",
        "        super().__init__()\n",
        "        # Include your code here\n",
        "        self.fc1 = nn.Linear(1, 10)\n",
        "        self.fc2 = nn.Linear(10, 12)\n",
        "        self.fc3 = nn.Linear(12, 1)\n",
        "        self.relu = nn.ReLU()\n",
        "        self.history = {'loss': []}\n",
        "\n",
        "  def forward(self, x):\n",
        "        # Include your code here\n",
        "        x = self.relu(self.fc1(x))\n",
        "        x = self.relu(self.fc2(x))\n",
        "        x = self.fc3(x)\n",
        "        return x"
      ],
      "metadata": {
        "id": "sFkMMUXwIsxs"
      },
      "execution_count": null,
      "outputs": []
    },
    {
      "cell_type": "code",
      "source": [
        "# Initialize the Model, Loss Function, and Optimizer\n",
        "# Write your code here\n",
        "ai_brain = NeuralNet()\n",
        "criterion = nn.MSELoss()\n",
        "optimizer = optim.RMSprop(ai_brain.parameters(), lr=0.001)"
      ],
      "metadata": {
        "id": "LYCcZwd3aVXr"
      },
      "execution_count": null,
      "outputs": []
    },
    {
      "cell_type": "code",
      "source": [
        "# Name: Gautham Krishna S\n",
        "# Register Number: 212223240036\n",
        "def train_model(ai_brain, X_train, y_train, criterion, optimizer, epochs=10000):\n",
        "    # Write your code here\n",
        "    for epoch in range(epochs):\n",
        "        optimizer.zero_grad()\n",
        "        outputs = ai_brain(X_train)\n",
        "        loss = criterion(outputs, y_train)\n",
        "        loss.backward()\n",
        "        optimizer.step()\n",
        "\n",
        "\n",
        "\n",
        "\n",
        "        ai_brain.history['loss'].append(loss.item())\n",
        "        if epoch % 200 == 0:\n",
        "            print(f'Epoch [{epoch}/{epochs}], Loss: {loss.item():.6f}')\n"
      ],
      "metadata": {
        "id": "j04FRGu5aabj"
      },
      "execution_count": null,
      "outputs": []
    },
    {
      "cell_type": "code",
      "source": [
        "train_model(ai_brain, X_train_tensor, y_train_tensor, criterion, optimizer)"
      ],
      "metadata": {
        "id": "3nT2R4-NanGb",
        "colab": {
          "base_uri": "https://localhost:8080/"
        },
        "outputId": "c89b797e-5be7-4625-d278-9e8fdeac2fcf"
      },
      "execution_count": null,
      "outputs": [
        {
          "output_type": "stream",
          "name": "stdout",
          "text": [
            "Epoch [0/10000], Loss: 0.406423\n",
            "Epoch [200/10000], Loss: 0.405463\n",
            "Epoch [400/10000], Loss: 0.407099\n",
            "Epoch [600/10000], Loss: 0.405993\n",
            "Epoch [800/10000], Loss: 0.405375\n",
            "Epoch [1000/10000], Loss: 0.406772\n",
            "Epoch [1200/10000], Loss: 0.405948\n",
            "Epoch [1400/10000], Loss: 0.405851\n",
            "Epoch [1600/10000], Loss: 0.406375\n",
            "Epoch [1800/10000], Loss: 0.406401\n",
            "Epoch [2000/10000], Loss: 0.403994\n",
            "Epoch [2200/10000], Loss: 0.407437\n",
            "Epoch [2400/10000], Loss: 0.406181\n",
            "Epoch [2600/10000], Loss: 0.405438\n",
            "Epoch [2800/10000], Loss: 0.406726\n",
            "Epoch [3000/10000], Loss: 0.405971\n",
            "Epoch [3200/10000], Loss: 0.405632\n",
            "Epoch [3400/10000], Loss: 0.405560\n",
            "Epoch [3600/10000], Loss: 0.405900\n",
            "Epoch [3800/10000], Loss: 0.405437\n",
            "Epoch [4000/10000], Loss: 0.406348\n",
            "Epoch [4200/10000], Loss: 0.405659\n",
            "Epoch [4400/10000], Loss: 0.406637\n",
            "Epoch [4600/10000], Loss: 0.405925\n",
            "Epoch [4800/10000], Loss: 0.405838\n",
            "Epoch [5000/10000], Loss: 0.405490\n",
            "Epoch [5200/10000], Loss: 0.406339\n",
            "Epoch [5400/10000], Loss: 0.405472\n",
            "Epoch [5600/10000], Loss: 0.406327\n",
            "Epoch [5800/10000], Loss: 0.405185\n",
            "Epoch [6000/10000], Loss: 0.404752\n",
            "Epoch [6200/10000], Loss: 0.406856\n",
            "Epoch [6400/10000], Loss: 0.405171\n",
            "Epoch [6600/10000], Loss: 0.405861\n",
            "Epoch [6800/10000], Loss: 0.405896\n",
            "Epoch [7000/10000], Loss: 0.405509\n",
            "Epoch [7200/10000], Loss: 0.406489\n",
            "Epoch [7400/10000], Loss: 0.406046\n",
            "Epoch [7600/10000], Loss: 0.406284\n",
            "Epoch [7800/10000], Loss: 0.406000\n",
            "Epoch [8000/10000], Loss: 0.406310\n",
            "Epoch [8200/10000], Loss: 0.405638\n",
            "Epoch [8400/10000], Loss: 0.406367\n",
            "Epoch [8600/10000], Loss: 0.406273\n",
            "Epoch [8800/10000], Loss: 0.406523\n",
            "Epoch [9000/10000], Loss: 0.405963\n",
            "Epoch [9200/10000], Loss: 0.405613\n",
            "Epoch [9400/10000], Loss: 0.406284\n",
            "Epoch [9600/10000], Loss: 0.405932\n",
            "Epoch [9800/10000], Loss: 0.406339\n"
          ]
        }
      ]
    },
    {
      "cell_type": "code",
      "source": [
        "with torch.no_grad():\n",
        "    test_loss = criterion(ai_brain(X_test_tensor), y_test_tensor)\n",
        "    print(f'Test Loss: {test_loss.item():.6f}')\n"
      ],
      "metadata": {
        "id": "Hs52rJD-aq-r",
        "colab": {
          "base_uri": "https://localhost:8080/"
        },
        "outputId": "8d20b99b-755f-4c1b-a18f-3372c35ede03"
      },
      "execution_count": null,
      "outputs": [
        {
          "output_type": "stream",
          "name": "stdout",
          "text": [
            "Test Loss: 1.309146\n"
          ]
        }
      ]
    },
    {
      "cell_type": "code",
      "source": [
        "loss_df = pd.DataFrame(ai_brain.history)"
      ],
      "metadata": {
        "id": "fSU0R1jPYzBY"
      },
      "execution_count": null,
      "outputs": []
    },
    {
      "cell_type": "code",
      "source": [
        "import matplotlib.pyplot as plt\n",
        "loss_df.plot()\n",
        "plt.xlabel(\"Epochs\")\n",
        "plt.ylabel(\"Loss\")\n",
        "plt.title(\"Loss during Training\")\n",
        "plt.show()"
      ],
      "metadata": {
        "id": "XRU1WLwAZuh4",
        "colab": {
          "base_uri": "https://localhost:8080/",
          "height": 472
        },
        "outputId": "0c287de3-0a54-4a5c-ef9e-883da3f4e269"
      },
      "execution_count": null,
      "outputs": [
        {
          "output_type": "display_data",
          "data": {
            "text/plain": [
              "<Figure size 640x480 with 1 Axes>"
            ],
            "image/png": "[encoded data removed]"
          },
          "metadata": {}
        }
      ]
    },
    {
      "cell_type": "code",
      "source": [
        "X_n1_1 = torch.tensor([[9]], dtype=torch.float32)\n",
        "prediction = ai_brain(torch.tensor(scaler.transform(X_n1_1), dtype=torch.float32)).item()\n",
        "print(f'Prediction: {prediction}')"
      ],
      "metadata": {
        "id": "mr_JhBRZauxb",
        "colab": {
          "base_uri": "https://localhost:8080/"
        },
        "outputId": "da9f1f62-cdd4-411d-cdb5-e274df66dd13"
      },
      "execution_count": null,
      "outputs": [
        {
          "output_type": "stream",
          "name": "stdout",
          "text": [
            "Prediction: 549.6532592773438\n"
          ]
        }
      ]
    }
  ]
}