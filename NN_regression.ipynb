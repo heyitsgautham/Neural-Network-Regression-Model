{
  "cells": [
    {
      "cell_type": "code",
      "execution_count": null,
      "metadata": {
        "id": "VJOBET7aZuAs"
      },
      "outputs": [],
      "source": [
        "import torch\n",
        "import torch.nn as nn\n",
        "import torch.optim as optim\n",
        "import pandas as pd\n",
        "from sklearn.model_selection import train_test_split\n",
        "from sklearn.preprocessing import MinMaxScaler"
      ]
    },
    {
      "cell_type": "code",
      "execution_count": null,
      "metadata": {
        "colab": {
          "base_uri": "https://localhost:8080/"
        },
        "id": "PaKxT9lYZ7_r",
        "outputId": "80ca2734-b24a-4d02-e0f9-0e2d0e99b547"
      },
      "outputs": [
        {
          "name": "stdout",
          "output_type": "stream",
          "text": [
            "     0    1\n",
            "0    1   12\n",
            "1    3   16\n",
            "2    5   20\n",
            "3    7   24\n",
            "4    9   28\n",
            "5   11   32\n",
            "6   13   36\n",
            "7   15   40\n",
            "8   17   44\n",
            "9   19   48\n",
            "10  21   52\n",
            "11  23   56\n",
            "12  25   60\n",
            "13  27   64\n",
            "14  29   68\n",
            "15  31   72\n",
            "16  33   76\n",
            "17  35   80\n",
            "18  37   84\n",
            "19  39   88\n",
            "20  41   92\n",
            "21  43   96\n",
            "22  45  100\n",
            "23  47  104\n",
            "24  49  108\n",
            "25  51  112\n",
            "26  53  116\n",
            "27  55  120\n",
            "28  57  124\n",
            "29  59  128\n",
            "30  61  132\n",
            "31  63  136\n",
            "32  65  140\n",
            "33  67  144\n",
            "34  69  148\n",
            "35  71  152\n",
            "36  73  156\n",
            "37  75  160\n",
            "38  77  164\n",
            "39  79  168\n",
            "40  81  172\n",
            "41  83  176\n",
            "42  85  180\n",
            "43  87  184\n",
            "44  89  188\n",
            "45  91  192\n",
            "46  93  196\n",
            "47  95  200\n",
            "48  97  204\n",
            "49  99  208\n"
          ]
        }
      ],
      "source": [
        "dataset1 = pd.read_csv('/content/data - Sheet1 (1).csv',header=None)\n",
        "X = dataset1[0].values\n",
        "y = dataset1[1].values\n",
        "print(dataset1)"
      ]
    },
    {
      "cell_type": "code",
      "execution_count": null,
      "metadata": {
        "colab": {
          "base_uri": "https://localhost:8080/"
        },
        "id": "ETxU1kPsirxw",
        "outputId": "fd0e04d4-dd69-4889-cceb-c705b3cc2b39"
      },
      "outputs": [
        {
          "data": {
            "text/plain": [
              "((50, 1), (50, 1))"
            ]
          },
          "execution_count": 5,
          "metadata": {},
          "output_type": "execute_result"
        }
      ],
      "source": [
        "X=X.reshape(-1,1)\n",
        "y=y.reshape(-1,1)\n",
        "X.shape,y.shape"
      ]
    },
    {
      "cell_type": "code",
      "execution_count": null,
      "metadata": {
        "id": "0s9XNKnraBB1"
      },
      "outputs": [],
      "source": [
        "X_train, X_test, y_train, y_test = train_test_split(X, y, test_size=0.33, random_state=33)"
      ]
    },
    {
      "cell_type": "code",
      "execution_count": null,
      "metadata": {
        "id": "YhvC6ogzaEHT"
      },
      "outputs": [],
      "source": [
        "scaler = MinMaxScaler()\n",
        "X_train = scaler.fit_transform(X_train)\n",
        "X_test = scaler.transform(X_test)"
      ]
    },
    {
      "cell_type": "code",
      "execution_count": null,
      "metadata": {
        "id": "ht0VjANUaImU"
      },
      "outputs": [],
      "source": [
        "X_train_tensor = torch.tensor(X_train, dtype=torch.float32)\n",
        "y_train_tensor = torch.tensor(y_train, dtype=torch.float32).view(-1, 1)\n",
        "X_test_tensor = torch.tensor(X_test, dtype=torch.float32)\n",
        "y_test_tensor = torch.tensor(y_test, dtype=torch.float32).view(-1, 1)"
      ]
    },
    {
      "cell_type": "code",
      "execution_count": null,
      "metadata": {
        "id": "sFkMMUXwIsxs"
      },
      "outputs": [],
      "source": [
        "### Name: GAUTHAM KRISHNA S \n",
        "### Register Number: 212223240036\n",
        "class NeuralNet(nn.Module):\n",
        "  def __init__(self):\n",
        "        super().__init__()\n",
        "        self.fc1=nn.Linear(1,10)\n",
        "        self.fc2=nn.Linear(10,14)\n",
        "        self.fc3=nn.Linear(14,1)\n",
        "        self.relu=nn.ReLU()\n",
        "        self.history = {'loss': []}\n",
        "\n",
        "\n",
        "  def forward(self,x):\n",
        "    x=self.relu(self.fc1(x))\n",
        "    x=self.relu(self.fc2(x))\n",
        "    x=self.fc3(x)\n",
        "    return x\n",
        "\n",
        "\n",
        "\n"
      ]
    },
    {
      "cell_type": "code",
      "execution_count": null,
      "metadata": {
        "id": "LYCcZwd3aVXr"
      },
      "outputs": [],
      "source": [
        "# Initialize the Model, Loss Function, and Optimizer\n",
        "# Write your code here\n",
        "ai_brain=NeuralNet()\n",
        "criterion=nn.MSELoss()\n",
        "optimizer=optim.RMSprop(ai_brain.parameters(),lr=0.001)"
      ]
    },
    {
      "cell_type": "code",
      "execution_count": null,
      "metadata": {
        "id": "j04FRGu5aabj"
      },
      "outputs": [],
      "source": [
        "# Name:\n",
        "# Register Number:\n",
        "def train_model(ai_brain, X_train, y_train, criterion, optimizer, epochs=2000):\n",
        "    # Write your code here\n",
        "    for epoch in range(epochs):\n",
        "        optimizer.zero_grad()\n",
        "        outputs = ai_brain(X_train)\n",
        "        loss = criterion(outputs, y_train)\n",
        "        loss.backward()\n",
        "        optimizer.step()\n",
        "\n",
        "        ai_brain.history['loss'].append(loss.item())\n",
        "        if epoch % 200 == 0:\n",
        "            print(f'Epoch [{epoch}/{epochs}], Loss: {loss.item():.6f}')\n"
      ]
    },
    {
      "cell_type": "markdown",
      "metadata": {
        "id": "mb6r-S03k-tF"
      },
      "source": []
    },
    {
      "cell_type": "code",
      "execution_count": null,
      "metadata": {
        "colab": {
          "base_uri": "https://localhost:8080/"
        },
        "id": "3nT2R4-NanGb",
        "outputId": "b2a10cdc-34ae-41ee-8504-09e0d6381c3c"
      },
      "outputs": [
        {
          "name": "stdout",
          "output_type": "stream",
          "text": [
            "Epoch [0/2000], Loss: 0.016815\n",
            "Epoch [200/2000], Loss: 0.016709\n",
            "Epoch [400/2000], Loss: 0.016722\n",
            "Epoch [600/2000], Loss: 0.016695\n",
            "Epoch [800/2000], Loss: 0.016680\n",
            "Epoch [1000/2000], Loss: 0.016630\n",
            "Epoch [1200/2000], Loss: 0.016597\n",
            "Epoch [1400/2000], Loss: 0.016576\n",
            "Epoch [1600/2000], Loss: 0.016545\n",
            "Epoch [1800/2000], Loss: 0.016528\n"
          ]
        }
      ],
      "source": [
        "train_model(ai_brain, X_train_tensor, y_train_tensor, criterion, optimizer)\n"
      ]
    },
    {
      "cell_type": "code",
      "execution_count": null,
      "metadata": {
        "colab": {
          "base_uri": "https://localhost:8080/"
        },
        "id": "Hs52rJD-aq-r",
        "outputId": "a1000967-7c98-4a72-ca14-32bca0203da6"
      },
      "outputs": [
        {
          "name": "stdout",
          "output_type": "stream",
          "text": [
            "Test Loss: 0.016742\n"
          ]
        }
      ],
      "source": [
        "with torch.no_grad():\n",
        "    test_loss = criterion(ai_brain(X_test_tensor), y_test_tensor)\n",
        "    print(f'Test Loss: {test_loss.item():.6f}')\n"
      ]
    },
    {
      "cell_type": "code",
      "execution_count": null,
      "metadata": {
        "id": "fSU0R1jPYzBY"
      },
      "outputs": [],
      "source": [
        "loss_df = pd.DataFrame(ai_brain.history)"
      ]
    },
    {
      "cell_type": "code",
      "execution_count": null,
      "metadata": {
        "colab": {
          "base_uri": "https://localhost:8080/",
          "height": 472
        },
        "id": "XRU1WLwAZuh4",
        "outputId": "279abf47-06e9-4e37-f781-387138307365"
      },
      "outputs": [
        {
          "data": {
            "image/png": "[encoded data removed]",
            "text/plain": [
              "<Figure size 640x480 with 1 Axes>"
            ]
          },
          "metadata": {},
          "output_type": "display_data"
        }
      ],
      "source": [
        "import matplotlib.pyplot as plt\n",
        "loss_df.plot()\n",
        "plt.xlabel(\"Epochs\")\n",
        "plt.ylabel(\"Loss\")\n",
        "plt.title(\"Loss during Training\")\n",
        "plt.show()"
      ]
    },
    {
      "cell_type": "code",
      "execution_count": null,
      "metadata": {
        "colab": {
          "base_uri": "https://localhost:8080/"
        },
        "id": "mr_JhBRZauxb",
        "outputId": "e984ec2a-6aad-479a-cb44-018ceb5af706"
      },
      "outputs": [
        {
          "name": "stdout",
          "output_type": "stream",
          "text": [
            "Prediction: 28.066024780273438\n"
          ]
        }
      ],
      "source": [
        "X_n1_1 = torch.tensor([[9]], dtype=torch.float32)\n",
        "prediction = ai_brain(torch.tensor(scaler.transform(X_n1_1), dtype=torch.float32)).item()\n",
        "print(f'Prediction: {prediction}')"
      ]
    },
    {
      "cell_type": "code",
      "execution_count": null,
      "metadata": {
        "colab": {
          "base_uri": "https://localhost:8080/"
        },
        "id": "o8KeME8nneeJ",
        "outputId": "cd8afe29-b482-48d1-b807-942d81cd8f37"
      },
      "outputs": [
        {
          "name": "stdout",
          "output_type": "stream",
          "text": [
            "Prediction: 34.070152282714844\n"
          ]
        }
      ],
      "source": [
        "X_n1_1 = torch.tensor([[12]], dtype=torch.float32)\n",
        "prediction = ai_brain(torch.tensor(scaler.transform(X_n1_1), dtype=torch.float32)).item()\n",
        "print(f'Prediction: {prediction}')"
      ]
    },
    {
      "cell_type": "code",
      "execution_count": null,
      "metadata": {
        "id": "uGU2RvzHiYcQ"
      },
      "outputs": [],
      "source": []
    }
  ],
  "metadata": {
    "colab": {
      "provenance": []
    },
    "kernelspec": {
      "display_name": "Python 3",
      "name": "python3"
    },
    "language_info": {
      "name": "python"
    }
  },
  "nbformat": 4,
  "nbformat_minor": 0
}
